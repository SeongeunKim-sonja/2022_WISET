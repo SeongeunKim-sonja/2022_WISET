{
  "nbformat": 4,
  "nbformat_minor": 0,
  "metadata": {
    "colab": {
      "provenance": [],
      "authorship_tag": "ABX9TyNll07uZ6ZeF1uaiN+F89Wr",
      "include_colab_link": true
    },
    "kernelspec": {
      "name": "python3",
      "display_name": "Python 3"
    },
    "language_info": {
      "name": "python"
    },
    "accelerator": "GPU",
    "gpuClass": "standard"
  },
  "cells": [
    {
      "cell_type": "markdown",
      "metadata": {
        "id": "view-in-github",
        "colab_type": "text"
      },
      "source": [
        "<a href=\"https://colab.research.google.com/github/So-nja/2022_WISET/blob/main/Computer_Vision/Simple_MNIST_convnet.ipynb\" target=\"_parent\"><img src=\"https://colab.research.google.com/assets/colab-badge.svg\" alt=\"Open In Colab\"/></a>"
      ]
    },
    {
      "cell_type": "markdown",
      "source": [
        "#단순한 MNIST CNN(합성곱 신경망) \n",
        "\n",
        "*이 문서는 keras 예제를 분석하여 해설을 작성한 것입니다.*\n",
        "\n",
        "<br>[예제 페이지](https://keras.io/examples/vision/mnist_convnet/)\n",
        "<br>\n",
        "<br>\n",
        "\n",
        "MNIST 데이터셋을 99%의 정확도로 분류 가능한 단순한 구조의 Convolution Neural Network를 구성해본다. "
      ],
      "metadata": {
        "id": "YUJuUSxL2GFt"
      }
    },
    {
      "cell_type": "markdown",
      "source": [
        "#Setup"
      ],
      "metadata": {
        "id": "1QaVQymJ2y4G"
      }
    },
    {
      "cell_type": "code",
      "execution_count": 1,
      "metadata": {
        "id": "Gb-wd3iu12z-"
      },
      "outputs": [],
      "source": [
        "import numpy as np\n",
        "from tensorflow import keras\n",
        "from tensorflow.keras import layers\n",
        "import matplotlib.pyplot as plt\n"
      ]
    },
    {
      "cell_type": "markdown",
      "source": [
        "#데이터 준비\n",
        "\n"
      ],
      "metadata": {
        "id": "38nIxYha234A"
      }
    },
    {
      "cell_type": "code",
      "source": [
        "# Model / data parameters\n",
        "# 0~9까지의 숫자 손글씨 데이터 = 10개 클래스, 각각 가로세로 28px의 흑백 데이터\n",
        "num_classes = 10\n",
        "input_shape = (28, 28, 1)\n",
        "\n",
        "# Load the data and split it between train and test sets\n",
        "#데이터를 호출해 학습용 데이터와 실험용 데이터를 나눈다. \n",
        "(x_train, y_train), (x_test, y_test) = keras.datasets.mnist.load_data()\n",
        "\n",
        "#데이터 샘플\n",
        "plt.imshow(x_train[0])\n",
        "\n",
        "\n",
        "# Scale images to the [0, 1] range\n",
        "# 흑백 이미지를 정규화한다. \n",
        "x_train = x_train.astype(\"float32\") / 255\n",
        "x_test = x_test.astype(\"float32\") / 255\n",
        "# Make sure images have shape (28, 28, 1)\n",
        "x_train = np.expand_dims(x_train, -1)   #축을 추가한한다. \n",
        "x_test = np.expand_dims(x_test, -1)\n",
        "print(\"x_train shape:\", x_train.shape)\n",
        "print(x_train.shape[0], \"train samples\")\n",
        "print(x_test.shape[0], \"test samples\")\n",
        "\n",
        "\n",
        "# convert class vectors to binary class matrices\n",
        "#결과값을 one-hot encoding 해주는 함수 utils.to_categorical\n",
        "y_train = keras.utils.to_categorical(y_train, num_classes)\n",
        "y_test = keras.utils.to_categorical(y_test, num_classes)"
      ],
      "metadata": {
        "id": "ElgvDQdQ3Kyv",
        "colab": {
          "base_uri": "https://localhost:8080/",
          "height": 357
        },
        "outputId": "8da7f7d7-5975-43d8-f2ec-f2449fd5cdae"
      },
      "execution_count": 2,
      "outputs": [
        {
          "output_type": "stream",
          "name": "stdout",
          "text": [
            "Downloading data from https://storage.googleapis.com/tensorflow/tf-keras-datasets/mnist.npz\n",
            "11490434/11490434 [==============================] - 1s 0us/step\n",
            "x_train shape: (60000, 28, 28, 1)\n",
            "60000 train samples\n",
            "10000 test samples\n"
          ]
        },
        {
          "output_type": "display_data",
          "data": {
            "text/plain": [
              "<Figure size 432x288 with 1 Axes>"
            ],
            "image/png": "[encoded data removed]"
          },
          "metadata": {
            "needs_background": "light"
          }
        }
      ]
    },
    {
      "cell_type": "markdown",
      "source": [
        "#CNN 모델 생성"
      ],
      "metadata": {
        "id": "b-lB7WqE5O2r"
      }
    },
    {
      "cell_type": "code",
      "source": [
        "model = keras.Sequential(\n",
        "    [\n",
        "        keras.Input(shape=input_shape),\n",
        "        layers.Conv2D(32, kernel_size=(3, 3), activation=\"relu\"),\n",
        "        layers.MaxPooling2D(pool_size=(2, 2)),\n",
        "        layers.Conv2D(64, kernel_size=(3, 3), activation=\"relu\"),\n",
        "        layers.MaxPooling2D(pool_size=(2, 2)),\n",
        "        layers.Flatten(),\n",
        "        layers.Dropout(0.5),\n",
        "        layers.Dense(num_classes, activation=\"softmax\"),\n",
        "    ]\n",
        "\n",
        ")\n",
        "\n",
        "model.summary()"
      ],
      "metadata": {
        "id": "sLRLOEzi5cmD",
        "colab": {
          "base_uri": "https://localhost:8080/"
        },
        "outputId": "83226551-c644-4619-a5ce-6d25f719877f"
      },
      "execution_count": 3,
      "outputs": [
        {
          "output_type": "stream",
          "name": "stdout",
          "text": [
            "Model: \"sequential\"\n",
            "_________________________________________________________________\n",
            " Layer (type)                Output Shape              Param #   \n",
            "=================================================================\n",
            " conv2d (Conv2D)             (None, 26, 26, 32)        320       \n",
            "                                                                 \n",
            " max_pooling2d (MaxPooling2D  (None, 13, 13, 32)       0         \n",
            " )                                                               \n",
            "                                                                 \n",
            " conv2d_1 (Conv2D)           (None, 11, 11, 64)        18496     \n",
            "                                                                 \n",
            " max_pooling2d_1 (MaxPooling  (None, 5, 5, 64)         0         \n",
            " 2D)                                                             \n",
            "                                                                 \n",
            " flatten (Flatten)           (None, 1600)              0         \n",
            "                                                                 \n",
            " dropout (Dropout)           (None, 1600)              0         \n",
            "                                                                 \n",
            " dense (Dense)               (None, 10)                16010     \n",
            "                                                                 \n",
            "=================================================================\n",
            "Total params: 34,826\n",
            "Trainable params: 34,826\n",
            "Non-trainable params: 0\n",
            "_________________________________________________________________\n"
          ]
        }
      ]
    },
    {
      "cell_type": "markdown",
      "source": [
        "conv2d 레이어의 Parmeter 수는 다음에 의해서 결정된다.\n",
        "\n",
        "**Parmeter 수 = (conv필터 가로 x 세로 x 데이터 깊이 + bias 1개) x 필터 수**\n",
        "\n",
        "ex) \n",
        "\n",
        "conv2d_2 Layer의 경우 - (3 x 3 x 1 + 1) x 32 = 320\n",
        "\n",
        "conv2d_3 Layer의 경우 - (3 x 3 x 32 + 1) x 64 =  18496"
      ],
      "metadata": {
        "id": "mOCl_Xp56PNO"
      }
    },
    {
      "cell_type": "markdown",
      "source": [
        "#모델 학습"
      ],
      "metadata": {
        "id": "q2AP1Azt6DiY"
      }
    },
    {
      "cell_type": "code",
      "source": [
        "batch_size = 128\n",
        "epochs = 15\n",
        "\n",
        "model.compile(loss=\"categorical_crossentropy\", optimizer=\"adam\", metrics=[\"accuracy\"])\n",
        "#여러 카테고리를 분류하니까 + one-hot 인코딩이므로 \n",
        "#loss function 은 categorical_crossentropy, \n",
        "#모델 마지막 레이어의 activation function 은 softmax\n",
        "# categorical_crossentropy 와 sparse_categorical_crossentropy(정수 형태) 와 비교하여 기억하자 \n",
        "\n",
        "history = model.fit(x_train, y_train, batch_size=batch_size, epochs=epochs, validation_split=0.1)\n",
        "#validation_split 설정시 그만큼의 데이터를 검증용으로 쓰겠다는 것을 의미한다. "
      ],
      "metadata": {
        "colab": {
          "base_uri": "https://localhost:8080/"
        },
        "id": "NWdSpJEv6GHv",
        "outputId": "54289544-83e1-4828-f6b1-7a5737c7e90f"
      },
      "execution_count": 4,
      "outputs": [
        {
          "output_type": "stream",
          "name": "stdout",
          "text": [
            "Epoch 1/15\n",
            "422/422 [==============================] - 11s 7ms/step - loss: 0.3565 - accuracy: 0.8924 - val_loss: 0.0839 - val_accuracy: 0.9788\n",
            "Epoch 2/15\n",
            "422/422 [==============================] - 2s 5ms/step - loss: 0.1155 - accuracy: 0.9652 - val_loss: 0.0606 - val_accuracy: 0.9837\n",
            "Epoch 3/15\n",
            "422/422 [==============================] - 2s 5ms/step - loss: 0.0831 - accuracy: 0.9740 - val_loss: 0.0461 - val_accuracy: 0.9888\n",
            "Epoch 4/15\n",
            "422/422 [==============================] - 3s 6ms/step - loss: 0.0748 - accuracy: 0.9768 - val_loss: 0.0412 - val_accuracy: 0.9892\n",
            "Epoch 5/15\n",
            "422/422 [==============================] - 2s 6ms/step - loss: 0.0659 - accuracy: 0.9796 - val_loss: 0.0412 - val_accuracy: 0.9893\n",
            "Epoch 6/15\n",
            "422/422 [==============================] - 2s 6ms/step - loss: 0.0579 - accuracy: 0.9821 - val_loss: 0.0346 - val_accuracy: 0.9905\n",
            "Epoch 7/15\n",
            "422/422 [==============================] - 2s 5ms/step - loss: 0.0522 - accuracy: 0.9839 - val_loss: 0.0365 - val_accuracy: 0.9903\n",
            "Epoch 8/15\n",
            "422/422 [==============================] - 2s 5ms/step - loss: 0.0490 - accuracy: 0.9839 - val_loss: 0.0318 - val_accuracy: 0.9920\n",
            "Epoch 9/15\n",
            "422/422 [==============================] - 2s 5ms/step - loss: 0.0444 - accuracy: 0.9853 - val_loss: 0.0347 - val_accuracy: 0.9907\n",
            "Epoch 10/15\n",
            "422/422 [==============================] - 2s 6ms/step - loss: 0.0447 - accuracy: 0.9855 - val_loss: 0.0317 - val_accuracy: 0.9912\n",
            "Epoch 11/15\n",
            "422/422 [==============================] - 2s 6ms/step - loss: 0.0395 - accuracy: 0.9877 - val_loss: 0.0275 - val_accuracy: 0.9933\n",
            "Epoch 12/15\n",
            "422/422 [==============================] - 2s 5ms/step - loss: 0.0393 - accuracy: 0.9877 - val_loss: 0.0293 - val_accuracy: 0.9922\n",
            "Epoch 13/15\n",
            "422/422 [==============================] - 2s 5ms/step - loss: 0.0373 - accuracy: 0.9878 - val_loss: 0.0301 - val_accuracy: 0.9922\n",
            "Epoch 14/15\n",
            "422/422 [==============================] - 2s 6ms/step - loss: 0.0366 - accuracy: 0.9883 - val_loss: 0.0286 - val_accuracy: 0.9915\n",
            "Epoch 15/15\n",
            "422/422 [==============================] - 2s 5ms/step - loss: 0.0340 - accuracy: 0.9886 - val_loss: 0.0333 - val_accuracy: 0.9910\n"
          ]
        }
      ]
    },
    {
      "cell_type": "markdown",
      "source": [
        "#학습한 모델 평가"
      ],
      "metadata": {
        "id": "koyN0_-15kGT"
      }
    },
    {
      "cell_type": "code",
      "source": [
        "score = model.evaluate(x_test, y_test, verbose=0)\n",
        "print(\"Test loss:\", score[0])\n",
        "print(\"Test accuracy:\", score[1])\n",
        "\n",
        "plt.plot(history.history[\"loss\"])\n",
        "plt.plot(history.history[\"val_loss\"])\n",
        "plt.show() "
      ],
      "metadata": {
        "id": "51A9isAH7XqT",
        "colab": {
          "base_uri": "https://localhost:8080/",
          "height": 302
        },
        "outputId": "89c0632c-ab70-4106-9e74-2b5a5dafb64e"
      },
      "execution_count": 10,
      "outputs": [
        {
          "output_type": "stream",
          "name": "stdout",
          "text": [
            "Test loss: 0.027421072125434875\n",
            "Test accuracy: 0.9908000230789185\n"
          ]
        },
        {
          "output_type": "display_data",
          "data": {
            "text/plain": [
              "<Figure size 432x288 with 1 Axes>"
            ],
            "image/png": "[encoded data removed]"
          },
          "metadata": {
            "needs_background": "light"
          }
        }
      ]
    },
    {
      "cell_type": "code",
      "source": [
        "#테스트 데이터로 실제 예측측을 해본다. \n",
        "y_ = model.predict(x_test)\n",
        "print(y_)\n",
        "\n",
        "#argmax 로 가장 예측값이 높게 나온 원소를 추출하여 확인할 수 있다.\n",
        "predicted = np.argmax(y_, axis=1)\n",
        "print(predicted)"
      ],
      "metadata": {
        "colab": {
          "base_uri": "https://localhost:8080/"
        },
        "id": "ImUPqTvk_scC",
        "outputId": "5a5645bb-13ed-450a-cd98-cae67ea07c21"
      },
      "execution_count": 6,
      "outputs": [
        {
          "output_type": "stream",
          "name": "stdout",
          "text": [
            "313/313 [==============================] - 1s 2ms/step\n",
            "[[1.4375263e-09 6.2018807e-10 1.4256610e-05 ... 9.9997139e-01\n",
            "  4.0066610e-08 3.5044775e-06]\n",
            " [1.3000263e-07 2.6099710e-07 9.9999881e-01 ... 5.7369354e-13\n",
            "  2.2686139e-07 4.1298746e-13]\n",
            " [1.0807557e-06 9.9960738e-01 9.4321804e-06 ... 5.1350515e-05\n",
            "  6.9278423e-05 2.2007334e-06]\n",
            " ...\n",
            " [2.0720470e-13 8.6652290e-11 1.2829254e-11 ... 5.0168443e-09\n",
            "  6.7872975e-07 8.4001471e-08]\n",
            " [1.0871436e-07 1.7911225e-14 8.1172669e-09 ... 1.1939974e-12\n",
            "  8.4937847e-04 1.6479508e-08]\n",
            " [1.0741447e-07 6.8767247e-13 2.9374617e-06 ... 5.0590032e-14\n",
            "  8.0488026e-06 1.4799260e-10]]\n",
            "[7 2 1 ... 4 5 6]\n"
          ]
        }
      ]
    },
    {
      "cell_type": "code",
      "source": [
        "#시각화하여 확인하기 , imshow 에는 cmap=plt.cm.binary 옵션을 주어 흑백으로 처리하였다. \n",
        "#보기좋게 한번에 여러 자료들을 나타내고자 한다. Matplotlib.subplot을 이용하였다. \n",
        "for i in range (5):\n",
        "   print(predicted[i])\n",
        "   plt.subplot(1,5,i+1)\n",
        "   plt.imshow(x_test[i].squeeze(), cmap=plt.cm.binary)\n",
        "\n",
        "plt.show()  "
      ],
      "metadata": {
        "colab": {
          "base_uri": "https://localhost:8080/",
          "height": 201
        },
        "id": "61on4ZIlA_KE",
        "outputId": "d0b924f6-0009-4914-bdaa-9753bd788bcd"
      },
      "execution_count": 9,
      "outputs": [
        {
          "output_type": "stream",
          "name": "stdout",
          "text": [
            "7\n",
            "2\n",
            "1\n",
            "0\n",
            "4\n"
          ]
        },
        {
          "output_type": "display_data",
          "data": {
            "text/plain": [
              "<Figure size 432x288 with 5 Axes>"
            ],
            "image/png": "[encoded data removed]"
          },
          "metadata": {
            "needs_background": "light"
          }
        }
      ]
    }
  ]
}